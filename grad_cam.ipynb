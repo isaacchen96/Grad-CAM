{
 "cells": [
  {
   "cell_type": "code",
   "execution_count": 81,
   "metadata": {
    "id": "A5v2jEGJQ4RH"
   },
   "outputs": [],
   "source": [
    "import tensorflow as tf\n",
    "from tensorflow import keras\n",
    "from tensorflow.keras import layers\n",
    "from tensorflow.keras import regularizers\n",
    "import sys\n",
    "from PIL import Image\n",
    "import PIL\n",
    "import os\n",
    "import glob\n",
    "\n",
    "\n",
    "import matplotlib.pyplot as plt"
   ]
  },
  {
   "cell_type": "markdown",
   "metadata": {
    "id": "wNEQ6_wGd-1j"
   },
   "source": [
    "con2D的厚度大的話gradcam的圖會比較有數字的樣子但是重點呈現不出來"
   ]
  },
  {
   "cell_type": "code",
   "execution_count": 188,
   "metadata": {
    "colab": {
     "base_uri": "https://localhost:8080/"
    },
    "id": "50uD5iI5Q4RP",
    "outputId": "2efdfd09-2f2f-43e6-dc1d-43933c5de3f2"
   },
   "outputs": [
    {
     "name": "stdout",
     "output_type": "stream",
     "text": [
      "x_train shape: (60000, 28, 28, 3)\n",
      "Number of images in x_train 60000\n",
      "Number of images in x_test 10000\n",
      "Epoch 1/10\n",
      "1875/1875 [==============================] - 7s 3ms/step - loss: 0.4497 - accuracy: 0.8594\n",
      "Epoch 2/10\n",
      "1875/1875 [==============================] - 6s 3ms/step - loss: 0.0867 - accuracy: 0.9765\n",
      "Epoch 3/10\n",
      "1875/1875 [==============================] - 6s 3ms/step - loss: 0.0575 - accuracy: 0.9840\n",
      "Epoch 4/10\n",
      "1875/1875 [==============================] - 6s 3ms/step - loss: 0.0435 - accuracy: 0.9869\n",
      "Epoch 5/10\n",
      "1875/1875 [==============================] - 6s 3ms/step - loss: 0.0336 - accuracy: 0.9901\n",
      "Epoch 6/10\n",
      "1875/1875 [==============================] - 6s 3ms/step - loss: 0.0255 - accuracy: 0.9931\n",
      "Epoch 7/10\n",
      "1875/1875 [==============================] - 6s 3ms/step - loss: 0.0280 - accuracy: 0.9918\n",
      "Epoch 8/10\n",
      "1875/1875 [==============================] - 6s 3ms/step - loss: 0.0233 - accuracy: 0.9924\n",
      "Epoch 9/10\n",
      "1875/1875 [==============================] - 6s 3ms/step - loss: 0.0192 - accuracy: 0.9944\n",
      "Epoch 10/10\n",
      "1875/1875 [==============================] - 6s 3ms/step - loss: 0.0165 - accuracy: 0.9950\n",
      "313/313 [==============================] - 1s 2ms/step - loss: 0.0528 - accuracy: 0.9894\n"
     ]
    },
    {
     "data": {
      "text/plain": [
       "[0.052784886211156845, 0.9894000291824341]"
      ]
     },
     "execution_count": 188,
     "metadata": {
      "tags": []
     },
     "output_type": "execute_result"
    }
   ],
   "source": [
    "(x_train, y_train), (x_test, y_test) = tf.keras.datasets.mnist.load_data()\n",
    "# Reshaping the array to 4-dims so that it can work with the Keras API\n",
    "x_train = tf.image.grayscale_to_rgb(tf.expand_dims(x_train, axis=3))\n",
    "x_test = tf.image.grayscale_to_rgb(tf.expand_dims(x_test, axis=3))\n",
    "input_shape = (28, 28, 3)\n",
    "x_train = x_train.numpy()\n",
    "x_test = x_test.numpy()\n",
    "# Making sure that the values are float so that we can get decimal points after division\n",
    "x_train = x_train.astype('float32')\n",
    "x_test = x_test.astype('float32')\n",
    "# Normalizing the RGB codes by dividing it to the max RGB value.\n",
    "x_train /= 255\n",
    "x_test /= 255\n",
    "print('x_train shape:', x_train.shape)\n",
    "print('Number of images in x_train', x_train.shape[0])\n",
    "print('Number of images in x_test', x_test.shape[0])\n",
    "\n",
    "\n",
    "# Importing the required Keras modules containing model and layers\n",
    "\n",
    "# Creating a Sequential Model and adding the layers\n",
    "model = tf.keras.Sequential(name='quadraticreg')\n",
    "model.add(layers.Conv2D(25, kernel_size=(3,3),activation='relu', padding='same' ,input_shape=input_shape))\n",
    "model.add(layers.Dropout(0.2))\n",
    "model.add(layers.Conv2D(30, kernel_size=(3,3),activation='relu', padding='same'))\n",
    "model.add(layers.MaxPooling2D(pool_size=(2, 2)))\n",
    "model.add(layers.Flatten()) # Flattening the 2D arrays for fully connected layers\n",
    "model.add(layers.Dense(128, activation=tf.nn.relu))\n",
    "model.add(layers.Dropout(0.2))\n",
    "model.add(layers.Dense(28, activation=tf.nn.relu))\n",
    "model.add(layers.Dropout(0.2)) \n",
    "model.add(layers.Dense(10,activation=tf.nn.softmax))\n",
    "\n",
    "scce = tf.keras.losses.SparseCategoricalCrossentropy()\n",
    "model.compile(optimizer='adam', \n",
    "              loss=scce, \n",
    "              metrics=['accuracy'])\n",
    "H = model.fit(x=x_train,y=y_train, epochs=10)\n",
    "\n",
    "model.evaluate(x_test, y_test)"
   ]
  },
  {
   "cell_type": "code",
   "execution_count": 189,
   "metadata": {
    "colab": {
     "base_uri": "https://localhost:8080/"
    },
    "id": "oKPMrJhHQ4RQ",
    "outputId": "b0f35608-27fe-4c5d-fcd3-9326d127eb15"
   },
   "outputs": [
    {
     "name": "stdout",
     "output_type": "stream",
     "text": [
      "Model: \"quadraticreg\"\n",
      "_________________________________________________________________\n",
      "Layer (type)                 Output Shape              Param #   \n",
      "=================================================================\n",
      "conv2d_15 (Conv2D)           (None, 28, 28, 25)        700       \n",
      "_________________________________________________________________\n",
      "dropout_18 (Dropout)         (None, 28, 28, 25)        0         \n",
      "_________________________________________________________________\n",
      "conv2d_16 (Conv2D)           (None, 28, 28, 30)        6780      \n",
      "_________________________________________________________________\n",
      "max_pooling2d_7 (MaxPooling2 (None, 14, 14, 30)        0         \n",
      "_________________________________________________________________\n",
      "flatten_7 (Flatten)          (None, 5880)              0         \n",
      "_________________________________________________________________\n",
      "dense_21 (Dense)             (None, 128)               752768    \n",
      "_________________________________________________________________\n",
      "dropout_19 (Dropout)         (None, 128)               0         \n",
      "_________________________________________________________________\n",
      "dense_22 (Dense)             (None, 28)                3612      \n",
      "_________________________________________________________________\n",
      "dropout_20 (Dropout)         (None, 28)                0         \n",
      "_________________________________________________________________\n",
      "dense_23 (Dense)             (None, 10)                290       \n",
      "=================================================================\n",
      "Total params: 764,150\n",
      "Trainable params: 764,150\n",
      "Non-trainable params: 0\n",
      "_________________________________________________________________\n"
     ]
    }
   ],
   "source": [
    "model.summary()"
   ]
  },
  {
   "cell_type": "code",
   "execution_count": null,
   "metadata": {
    "id": "xIVEFfFBQ4RR"
   },
   "outputs": [],
   "source": [
    "from IPython.display import Image, display\n",
    "import matplotlib.pyplot as plt\n",
    "import matplotlib.cm as cm"
   ]
  },
  {
   "cell_type": "markdown",
   "metadata": {
    "id": "HXyBERS3dXwn"
   },
   "source": [
    "last_conv_layer_name,classifier_layer_names裡面的東西要根據上面的summary名子改"
   ]
  },
  {
   "cell_type": "code",
   "execution_count": 190,
   "metadata": {
    "id": "f_hjgLMaQ4RR"
   },
   "outputs": [],
   "source": [
    "import numpy as np\n",
    "import cv2\n",
    "\n",
    "\n",
    "last_conv_layer_name = \"conv2d_16\"\n",
    "classifier_layer_names = [\n",
    "    \"max_pooling2d_7\",\n",
    "    \"flatten_7\",\n",
    "    \"dense_21\",\n",
    "    \"dropout_19\",\n",
    "    \"dense_22\",\n",
    "    \"dropout_20\",\n",
    "    \"dense_23\",\n",
    "]\n",
    "\n",
    "def make_gradcam_heatmap(\n",
    "    img_array, model, last_conv_layer_name, classifier_layer_names\n",
    "):\n",
    "    # First, we create a model that maps the input image to the activations\n",
    "    # of the last conv layer\n",
    "    last_conv_layer = model.get_layer(last_conv_layer_name)\n",
    "    last_conv_layer_model = keras.Model(model.inputs, last_conv_layer.output)\n",
    "\n",
    "    # Second, we create a model that maps the activations of the last conv\n",
    "    # layer to the final class predictions\n",
    "    classifier_input = keras.Input(shape=last_conv_layer.output.shape[1:])\n",
    "    x = classifier_input\n",
    "    for layer_name in classifier_layer_names:\n",
    "        x = model.get_layer(layer_name)(x)\n",
    "    classifier_model = keras.Model(classifier_input, x)\n",
    "\n",
    "    # Then, we compute the gradient of the top predicted class for our input image\n",
    "    # with respect to the activations of the last conv layer\n",
    "    with tf.GradientTape() as tape:\n",
    "        # Compute activations of the last conv layer and make the tape watch it\n",
    "        last_conv_layer_output = last_conv_layer_model(img_array)\n",
    "        tape.watch(last_conv_layer_output)\n",
    "        # Compute class predictions\n",
    "        preds = classifier_model(last_conv_layer_output)\n",
    "        top_pred_index = tf.argmax(preds[0])\n",
    "        top_class_channel = preds[:,top_pred_index]\n",
    "        \n",
    "\n",
    "    # This is the gradient of the top predicted class with regard to\n",
    "    # the output feature map of the last conv layer\n",
    "    grads = tape.gradient(top_class_channel, last_conv_layer_output)\n",
    "    # This is a vector where each entry is the mean intensity of the gradient\n",
    "    # over a specific feature map channel\n",
    "    pooled_grads = tf.reduce_mean(grads, axis=(0, 1, 2))\n",
    "    # We multiply each channel in the feature map array\n",
    "    # by \"how important this channel is\" with regard to the top predicted class\n",
    "    last_conv_layer_output = last_conv_layer_output.numpy()[0]\n",
    "    pooled_grads = pooled_grads.numpy()\n",
    "    for i in range(pooled_grads.shape[-1]):\n",
    "        last_conv_layer_output[:, :, i] *= pooled_grads[i]\n",
    "\n",
    "    # The channel-wise mean of the resulting feature map\n",
    "    # is our heatmap of class activation\n",
    "    heatmap = np.mean(last_conv_layer_output, axis=-1)\n",
    "    # For visualization purpose, we will also normalize the heatmap between 0 & 1\n",
    "    heatmap = np.maximum(heatmap, 0) / np.max(heatmap)\n",
    "    return heatmap"
   ]
  },
  {
   "cell_type": "code",
   "execution_count": 192,
   "metadata": {
    "colab": {
     "base_uri": "https://localhost:8080/",
     "height": 282
    },
    "id": "vMHXJITjQ4RQ",
    "outputId": "326fe26a-489a-47d2-9d26-90137ee8db7a"
   },
   "outputs": [
    {
     "name": "stdout",
     "output_type": "stream",
     "text": [
      "0\n"
     ]
    },
    {
     "data": {
      "image/png": "[encoded data removed]",
      "text/plain": [
       "<Figure size 432x288 with 1 Axes>"
      ]
     },
     "metadata": {
      "needs_background": "light",
      "tags": []
     },
     "output_type": "display_data"
    }
   ],
   "source": [
    "image_index = 101 # You may select anything up to 60,000\n",
    "plt.imshow(x_test[image_index])\n",
    "pred = model.predict(x_test[image_index].reshape(1, 28, 28, 3))\n",
    "print(pred.argmax())"
   ]
  },
  {
   "cell_type": "code",
   "execution_count": 193,
   "metadata": {
    "colab": {
     "base_uri": "https://localhost:8080/",
     "height": 275
    },
    "id": "ENZV0RR3T7S6",
    "outputId": "6eb486e4-177b-44e5-ddc7-19de7d2e0bf4"
   },
   "outputs": [
    {
     "data": {
      "image/png": "[encoded data removed]",
      "text/plain": [
       "<Figure size 288x288 with 1 Axes>"
      ]
     },
     "metadata": {
      "needs_background": "light",
      "tags": []
     },
     "output_type": "display_data"
    }
   ],
   "source": [
    "img_array = x_test[image_index].reshape(1, 28, 28, 3)\r\n",
    "img_size = (28, 28)\r\n",
    "preds = model.predict(img_array)\r\n",
    "#print(\"Predicted:\", decode_predictions(preds, top=1)[0])\r\n",
    "\r\n",
    "# Generate class activation heatmap\r\n",
    "heatmap = make_gradcam_heatmap(\r\n",
    "    img_array, model, last_conv_layer_name, classifier_layer_names\r\n",
    ")\r\n",
    "\r\n",
    "# Display heatmap\r\n",
    "plt.matshow(heatmap)\r\n",
    "plt.show()\r\n",
    "\r\n",
    "img = img_array.reshape(28,28,3)\r\n",
    "# We rescale heatmap to a range 0-255\r\n",
    "heatmap = np.uint8(255 * heatmap)\r\n",
    "\r\n",
    "# We use jet colormap to colorize heatmap\r\n",
    "jet = cm.get_cmap(\"jet\")\r\n",
    "\r\n",
    "# We use RGB values of the colormap\r\n",
    "jet_colors = jet(np.arange(256))[:, :3]\r\n",
    "jet_heatmap = jet_colors[heatmap]\r\n",
    "\r\n",
    "# We create an image with RGB colorized heatmap\r\n",
    "#jet_heatmap = keras.preprocessing.image.array_to_img(jet_heatmap)\r\n",
    "jet_heatmap = cv2.resize(jet_heatmap,(img.shape[1], img.shape[0]))\r\n",
    "#jet_heatmap = keras.preprocessing.image.img_to_array(jet_heatmap)\r\n",
    "\r\n",
    "# Superimpose the heatmap on original image\r\n",
    "superimposed_img = jet_heatmap * 0.4 + img"
   ]
  },
  {
   "cell_type": "code",
   "execution_count": 194,
   "metadata": {
    "colab": {
     "base_uri": "https://localhost:8080/",
     "height": 282
    },
    "id": "uhSynqWFQ4RU",
    "outputId": "4cf71c79-04b7-43aa-de40-e629153ccb02"
   },
   "outputs": [
    {
     "data": {
      "text/plain": [
       "<matplotlib.image.AxesImage at 0x7fc60f5cdad0>"
      ]
     },
     "execution_count": 194,
     "metadata": {
      "tags": []
     },
     "output_type": "execute_result"
    },
    {
     "data": {
      "image/png": "[encoded data removed]",
      "text/plain": [
       "<Figure size 432x288 with 1 Axes>"
      ]
     },
     "metadata": {
      "needs_background": "light",
      "tags": []
     },
     "output_type": "display_data"
    }
   ],
   "source": [
    "plt.imshow(jet_heatmap)"
   ]
  },
  {
   "cell_type": "markdown",
   "metadata": {
    "id": "4YHfbQPwseow"
   },
   "source": [
    "下面是最後一層con2D厚度為10的情況"
   ]
  },
  {
   "cell_type": "code",
   "execution_count": 187,
   "metadata": {
    "colab": {
     "base_uri": "https://localhost:8080/",
     "height": 248
    },
    "id": "S40rm2Z7Xz3U",
    "outputId": "5f15f00b-3cd8-41d5-919f-5f1e5c9c28bd"
   },
   "outputs": [
    {
     "data": {
      "image/png": "[encoded data removed]",
      "text/plain": [
       "<Figure size 1440x288 with 18 Axes>"
      ]
     },
     "metadata": {
      "needs_background": "light",
      "tags": []
     },
     "output_type": "display_data"
    }
   ],
   "source": [
    "decoded_imgs = model.predict(x_test)\r\n",
    "n = 10\r\n",
    "plt.figure(figsize=(20, 4))\r\n",
    "for i in range(1, n):\r\n",
    "    # display original\r\n",
    "    ax = plt.subplot(2, n, i)\r\n",
    "    plt.imshow(x_test[i])\r\n",
    "    plt.gray()\r\n",
    "    ax.get_xaxis().set_visible(False)\r\n",
    "    ax.get_yaxis().set_visible(False)\r\n",
    "# display reconstruction\r\n",
    "    image_index = i\r\n",
    "    img_array = x_test[image_index].reshape(1, 28, 28, 3)\r\n",
    "    img_size = (28, 28)\r\n",
    "    preds = model.predict(img_array)\r\n",
    "#print(\"Predicted:\", decode_predictions(preds, top=1)[0])\r\n",
    "\r\n",
    "# Generate class activation heatmap\r\n",
    "    heatmap = make_gradcam_heatmap(\r\n",
    "        img_array, model, last_conv_layer_name, classifier_layer_names\r\n",
    "    )\r\n",
    "\r\n",
    "# Display heatmap\r\n",
    "\r\n",
    "    img = img_array.reshape(28,28,3)\r\n",
    "# We rescale heatmap to a range 0-255\r\n",
    "    heatmap = np.uint8(255 * heatmap)\r\n",
    "\r\n",
    "# We use jet colormap to colorize heatmap\r\n",
    "    jet = cm.get_cmap(\"jet\")\r\n",
    "\r\n",
    "# We use RGB values of the colormap\r\n",
    "    jet_colors = jet(np.arange(256))[:, :3]\r\n",
    "    jet_heatmap = jet_colors[heatmap]\r\n",
    "\r\n",
    "# We create an image with RGB colorized heatmap\r\n",
    "#jet_heatmap = keras.preprocessing.image.array_to_img(jet_heatmap)\r\n",
    "    jet_heatmap = cv2.resize(jet_heatmap,(img.shape[1], img.shape[0]))\r\n",
    "#jet_heatmap = keras.preprocessing.image.img_to_array(jet_heatmap)\r\n",
    "\r\n",
    "# Superimpose the heatmap on original image\r\n",
    "    superimposed_img = jet_heatmap * 0.4 + img\r\n",
    "    ax = plt.subplot(2, n, i + n)\r\n",
    "    plt.imshow(jet_heatmap)\r\n",
    "    ax.get_xaxis().set_visible(False)\r\n",
    "    ax.get_yaxis().set_visible(False)\r\n",
    "plt.show()"
   ]
  },
  {
   "cell_type": "markdown",
   "metadata": {
    "id": "ZxQR-BcisoUI"
   },
   "source": [
    "下面是最後一層con2D厚度為30的情況"
   ]
  },
  {
   "cell_type": "code",
   "execution_count": 191,
   "metadata": {
    "colab": {
     "base_uri": "https://localhost:8080/",
     "height": 248
    },
    "id": "uZ0FVnKXrzea",
    "outputId": "5516943a-21c8-4c3e-db5c-1d5b94d0f1e3"
   },
   "outputs": [
    {
     "data": {
      "image/png": "[encoded data removed]",
      "text/plain": [
       "<Figure size 1440x288 with 18 Axes>"
      ]
     },
     "metadata": {
      "needs_background": "light",
      "tags": []
     },
     "output_type": "display_data"
    }
   ],
   "source": [
    "decoded_imgs = model.predict(x_test)\r\n",
    "n = 10\r\n",
    "plt.figure(figsize=(20, 4))\r\n",
    "for i in range(1, n):\r\n",
    "    # display original\r\n",
    "    ax = plt.subplot(2, n, i)\r\n",
    "    plt.imshow(x_test[i])\r\n",
    "    plt.gray()\r\n",
    "    ax.get_xaxis().set_visible(False)\r\n",
    "    ax.get_yaxis().set_visible(False)\r\n",
    "# display reconstruction\r\n",
    "    image_index = i\r\n",
    "    img_array = x_test[image_index].reshape(1, 28, 28, 3)\r\n",
    "    img_size = (28, 28)\r\n",
    "    preds = model.predict(img_array)\r\n",
    "#print(\"Predicted:\", decode_predictions(preds, top=1)[0])\r\n",
    "\r\n",
    "# Generate class activation heatmap\r\n",
    "    heatmap = make_gradcam_heatmap(\r\n",
    "        img_array, model, last_conv_layer_name, classifier_layer_names\r\n",
    "    )\r\n",
    "\r\n",
    "# Display heatmap\r\n",
    "\r\n",
    "    img = img_array.reshape(28,28,3)\r\n",
    "# We rescale heatmap to a range 0-255\r\n",
    "    heatmap = np.uint8(255 * heatmap)\r\n",
    "\r\n",
    "# We use jet colormap to colorize heatmap\r\n",
    "    jet = cm.get_cmap(\"jet\")\r\n",
    "\r\n",
    "# We use RGB values of the colormap\r\n",
    "    jet_colors = jet(np.arange(256))[:, :3]\r\n",
    "    jet_heatmap = jet_colors[heatmap]\r\n",
    "\r\n",
    "# We create an image with RGB colorized heatmap\r\n",
    "#jet_heatmap = keras.preprocessing.image.array_to_img(jet_heatmap)\r\n",
    "    jet_heatmap = cv2.resize(jet_heatmap,(img.shape[1], img.shape[0]))\r\n",
    "#jet_heatmap = keras.preprocessing.image.img_to_array(jet_heatmap)\r\n",
    "\r\n",
    "# Superimpose the heatmap on original image\r\n",
    "    superimposed_img = jet_heatmap * 0.4 + img\r\n",
    "    ax = plt.subplot(2, n, i + n)\r\n",
    "    plt.imshow(jet_heatmap)\r\n",
    "    ax.get_xaxis().set_visible(False)\r\n",
    "    ax.get_yaxis().set_visible(False)\r\n",
    "plt.show()"
   ]
  },
  {
   "cell_type": "code",
   "execution_count": null,
   "metadata": {
    "id": "3Gq-_pBpsTZu"
   },
   "outputs": [],
   "source": []
  }
 ],
 "metadata": {
  "accelerator": "GPU",
  "colab": {
   "collapsed_sections": [],
   "name": "grad_cam.ipynb",
   "provenance": []
  },
  "kernelspec": {
   "display_name": "Python 3",
   "language": "python",
   "name": "python3"
  },
  "language_info": {
   "codemirror_mode": {
    "name": "ipython",
    "version": 3
   },
   "file_extension": ".py",
   "mimetype": "text/x-python",
   "name": "python",
   "nbconvert_exporter": "python",
   "pygments_lexer": "ipython3",
   "version": "3.6.12"
  }
 },
 "nbformat": 4,
 "nbformat_minor": 4
}
